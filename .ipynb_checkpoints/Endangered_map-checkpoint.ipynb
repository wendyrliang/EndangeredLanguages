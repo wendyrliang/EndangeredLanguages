{
 "cells": [
  {
   "cell_type": "markdown",
   "metadata": {},
   "source": [
    "References for map plot:"
   ]
  },
  {
   "cell_type": "markdown",
   "metadata": {},
   "source": [
    "Interactive map plots with Plotly: https://towardsdatascience.com/how-to-create-interactive-map-plots-with-plotly-7b57e889239a"
   ]
  },
  {
   "attachments": {},
   "cell_type": "markdown",
   "metadata": {},
   "source": [
    "Changed the dataset; customized layout, different color for data analysis and visualization; added different ways of interaction"
   ]
  },
  {
   "cell_type": "markdown",
   "metadata": {},
   "source": [
    "Mapbox Choropleth Maps in Python: https://plot.ly/python/mapbox-county-choropleth/"
   ]
  },
  {
   "cell_type": "markdown",
   "metadata": {},
   "source": [
    "Adapted layers from the code"
   ]
  },
  {
   "cell_type": "code",
   "execution_count": 1,
   "metadata": {},
   "outputs": [
    {
     "name": "stdout",
     "output_type": "stream",
     "text": [
      "<class 'pandas.core.frame.DataFrame'>\n",
      "RangeIndex: 2722 entries, 0 to 2721\n",
      "Data columns (total 17 columns):\n",
      "Unnamed: 0                     2722 non-null int64\n",
      "ID                             2722 non-null int64\n",
      "Name in English                2722 non-null object\n",
      "Name in French                 2699 non-null object\n",
      "Name in Spanish                2701 non-null object\n",
      "Countries                      2721 non-null object\n",
      "Country codes alpha 3          2721 non-null object\n",
      "ISO639-3 codes                 2458 non-null object\n",
      "Degree of endangerment         2722 non-null object\n",
      "Alternate names                1583 non-null object\n",
      "Name in the language           27 non-null object\n",
      "Number of speakers             2539 non-null float64\n",
      "Sources                        2079 non-null object\n",
      "Latitude                       2719 non-null float64\n",
      "Longitude                      2719 non-null float64\n",
      "Description of the location    1870 non-null object\n",
      "language family                2722 non-null object\n",
      "dtypes: float64(3), int64(2), object(12)\n",
      "memory usage: 361.6+ KB\n"
     ]
    }
   ],
   "source": [
    "import plotly.plotly as py\n",
    "import plotly.graph_objs as go\n",
    "import plotly\n",
    "import pandas as pd\n",
    "import numpy as np\n",
    "\n",
    "# setting user, api key and access token\n",
    "plotly.tools.set_credentials_file(username='WendyLiang', api_key='0Mqn1LRKjujs81acpAGt')\n",
    "mapbox_access_token = 'pk.eyJ1Ijoid2VuZHlsaWFuZyIsImEiOiJjandhZGVzd3cwOHU0NGFuMHBzdHJvNHdhIn0.15zho30YkMBcHvlAVx4J9w'\n",
    "\n",
    "# load data\n",
    "df = pd.read_csv('./data/UNESCO.csv')\n",
    "df.info()"
   ]
  },
  {
   "cell_type": "code",
   "execution_count": 2,
   "metadata": {},
   "outputs": [
    {
     "data": {
      "text/html": [
       "<div>\n",
       "<style scoped>\n",
       "    .dataframe tbody tr th:only-of-type {\n",
       "        vertical-align: middle;\n",
       "    }\n",
       "\n",
       "    .dataframe tbody tr th {\n",
       "        vertical-align: top;\n",
       "    }\n",
       "\n",
       "    .dataframe thead th {\n",
       "        text-align: right;\n",
       "    }\n",
       "</style>\n",
       "<table border=\"1\" class=\"dataframe\">\n",
       "  <thead>\n",
       "    <tr style=\"text-align: right;\">\n",
       "      <th></th>\n",
       "      <th>Name in English</th>\n",
       "      <th>Countries</th>\n",
       "      <th>Country codes alpha 3</th>\n",
       "      <th>Degree of endangerment</th>\n",
       "      <th>Number of speakers</th>\n",
       "      <th>Latitude</th>\n",
       "      <th>Longitude</th>\n",
       "    </tr>\n",
       "  </thead>\n",
       "  <tbody>\n",
       "    <tr>\n",
       "      <th>0</th>\n",
       "      <td>South Italian</td>\n",
       "      <td>Italy</td>\n",
       "      <td>ITA</td>\n",
       "      <td>Vulnerable</td>\n",
       "      <td>7500000.0</td>\n",
       "      <td>40.9798</td>\n",
       "      <td>15.2490</td>\n",
       "    </tr>\n",
       "    <tr>\n",
       "      <th>1</th>\n",
       "      <td>Sicilian</td>\n",
       "      <td>Italy</td>\n",
       "      <td>ITA</td>\n",
       "      <td>Vulnerable</td>\n",
       "      <td>5000000.0</td>\n",
       "      <td>37.4399</td>\n",
       "      <td>14.5019</td>\n",
       "    </tr>\n",
       "    <tr>\n",
       "      <th>2</th>\n",
       "      <td>Low Saxon</td>\n",
       "      <td>Germany, Denmark, Netherlands, Poland, Russian...</td>\n",
       "      <td>DEU, DNK, NLD, POL, RUS</td>\n",
       "      <td>Vulnerable</td>\n",
       "      <td>4800000.0</td>\n",
       "      <td>53.4029</td>\n",
       "      <td>10.3601</td>\n",
       "    </tr>\n",
       "    <tr>\n",
       "      <th>3</th>\n",
       "      <td>Belarusian</td>\n",
       "      <td>Belarus, Latvia, Lithuania, Poland, Russian Fe...</td>\n",
       "      <td>BRB, LVA, LTU, POL, RUS, UKR</td>\n",
       "      <td>Vulnerable</td>\n",
       "      <td>4000000.0</td>\n",
       "      <td>53.9560</td>\n",
       "      <td>27.5756</td>\n",
       "    </tr>\n",
       "    <tr>\n",
       "      <th>4</th>\n",
       "      <td>Lombard</td>\n",
       "      <td>Italy, Switzerland</td>\n",
       "      <td>ITA, CHE</td>\n",
       "      <td>Definitely endangered</td>\n",
       "      <td>3500000.0</td>\n",
       "      <td>45.7215</td>\n",
       "      <td>9.3273</td>\n",
       "    </tr>\n",
       "  </tbody>\n",
       "</table>\n",
       "</div>"
      ],
      "text/plain": [
       "  Name in English                                          Countries  \\\n",
       "0   South Italian                                              Italy   \n",
       "1        Sicilian                                              Italy   \n",
       "2       Low Saxon  Germany, Denmark, Netherlands, Poland, Russian...   \n",
       "3      Belarusian  Belarus, Latvia, Lithuania, Poland, Russian Fe...   \n",
       "4         Lombard                                 Italy, Switzerland   \n",
       "\n",
       "          Country codes alpha 3 Degree of endangerment  Number of speakers  \\\n",
       "0                           ITA             Vulnerable           7500000.0   \n",
       "1                           ITA             Vulnerable           5000000.0   \n",
       "2       DEU, DNK, NLD, POL, RUS             Vulnerable           4800000.0   \n",
       "3  BRB, LVA, LTU, POL, RUS, UKR             Vulnerable           4000000.0   \n",
       "4                      ITA, CHE  Definitely endangered           3500000.0   \n",
       "\n",
       "   Latitude  Longitude  \n",
       "0   40.9798    15.2490  \n",
       "1   37.4399    14.5019  \n",
       "2   53.4029    10.3601  \n",
       "3   53.9560    27.5756  \n",
       "4   45.7215     9.3273  "
      ]
     },
     "execution_count": 2,
     "metadata": {},
     "output_type": "execute_result"
    }
   ],
   "source": [
    "# drop rows with no coordinate info\n",
    "df = df[pd.notnull(df['Latitude'])]\n",
    "df = df[pd.notnull(df['Countries'])]\n",
    "\n",
    "# drop informations that we don't need\n",
    "df = pd.DataFrame({'Name in English': df['Name in English'],\n",
    "                   'Countries': df['Countries'],\n",
    "                   'Country codes alpha 3': df['Country codes alpha 3'],\n",
    "                   'Degree of endangerment': df['Degree of endangerment'],\n",
    "                   'Number of speakers': df['Number of speakers'],\n",
    "                   'Latitude': df['Latitude'],\n",
    "                   'Longitude': df['Longitude']\n",
    "})\n",
    "\n",
    "df.head()"
   ]
  },
  {
   "cell_type": "markdown",
   "metadata": {},
   "source": [
    "Data Visualization with Map Plot"
   ]
  },
  {
   "cell_type": "code",
   "execution_count": 3,
   "metadata": {},
   "outputs": [],
   "source": [
    "# there are five level of endangerment in the data\n",
    "degrees = ['Vulnerable', 'Definitely endangered', 'Severely endangered', 'Critically endangered', 'Extinct']\n",
    "\n",
    "# represent each degree of endangerment with a different color\n",
    "# colors = [\"rgba(0,255,255,1)\", \"rgba(0,250,154,1)\", \"rgba(255,215,0,1)\", \"rgba(255,140,0,1)\", \"rgba(255,69,0,1)\"]\n",
    "colors = [\"rgb(81,235,147)\", \"rgb(81,112,235)\", \"rgb(209,81,235)\", \"rgb(235,81,81)\", \"rgb(47,60,60)\"]"
   ]
  },
  {
   "cell_type": "code",
   "execution_count": 4,
   "metadata": {},
   "outputs": [],
   "source": [
    "# put data of the plot in a dictionary\n",
    "data = []\n",
    "for i in range(len(degrees)):\n",
    "    degree = degrees[i]\n",
    "    degree_data = go.Scattermapbox(\n",
    "        # we need coordinate, endangerment level and name of the languages\n",
    "        lat = df.loc[df['Degree of endangerment'] == degree, 'Latitude'],\n",
    "        lon = df.loc[df['Degree of endangerment'] == degree, 'Longitude'],\n",
    "        text = df.loc[df['Degree of endangerment'] == degree, ['Name in English', 'Number of speakers']],\n",
    "        mode = 'markers',\n",
    "        marker = go.scattermapbox.Marker(\n",
    "            # size and color of each dot\n",
    "            size = 8,\n",
    "            opacity = 1,\n",
    "            color = colors[i]\n",
    "        ),\n",
    "        name = degree,\n",
    "        # display name of the language when hover over\n",
    "        hoverinfo = 'text',\n",
    "        type = 'scattermapbox'\n",
    "    )\n",
    "    data.append(degree_data)"
   ]
  },
  {
   "cell_type": "code",
   "execution_count": 5,
   "metadata": {},
   "outputs": [],
   "source": [
    "# layout of the map\n",
    "layout = go.Layout(\n",
    "    height = 800,\n",
    "    # top, bottom, left and right margins\n",
    "    margin = dict(t = 1.5, b = 1, l = 1, r = 1),\n",
    "    font = dict(color = '#000000', size = 11),\n",
    "    paper_bgcolor = '#FFFFFF',\n",
    "    mapbox = dict(\n",
    "        accesstoken = mapbox_access_token,\n",
    "        bearing = 0,\n",
    "        # center the map at the US at beginning\n",
    "        center = dict(\n",
    "            lat = 38,\n",
    "            lon = -94\n",
    "        ),\n",
    "        pitch = 0, # set the map to be \"parallel\" to our screen, with no angle\n",
    "        zoom = 3, # default level of zoom\n",
    "        style = 'light' # default map style\n",
    "    )\n",
    ")"
   ]
  },
  {
   "cell_type": "code",
   "execution_count": 6,
   "metadata": {},
   "outputs": [],
   "source": [
    "# relayout the map when different continents are selected\n",
    "# center the map on the coresponsing continent\n",
    "# color the continent area in dark gray\n",
    "# Africa\n",
    "center_africa = dict(\n",
    "    lat = 9,\n",
    "    lon = 35\n",
    ")\n",
    "layers_africa = [dict(\n",
    "    sourcetype = 'geojson',\n",
    "    source = 'https://raw.githubusercontent.com/wendyrliang/Endangered_Languages/master/data/africa.json?token=AJWK76ZRV6JFOSIZOHPADV25ACL7Q',\n",
    "    type = 'fill',\n",
    "    color = 'rgba(96,96,96,0.4)',\n",
    "    below = 'state-label-sm'\n",
    ")]\n",
    "    \n",
    "# Asia\n",
    "center_asia = dict(\n",
    "    lat = 34,\n",
    "    lon = 101\n",
    ")\n",
    "layers_asia = [dict(\n",
    "    sourcetype = 'geojson',\n",
    "    source = 'https://raw.githubusercontent.com/wendyrliang/Endangered_Languages/master/data/asia.json?token=AJWK767HG4ADK4YDPYVHOPS5ACMBS',\n",
    "     type = 'fill',\n",
    "    color = 'rgba(96,96,96,0.4)',\n",
    "    below = 'state-label-sm'\n",
    ")]\n",
    "\n",
    "# Europe\n",
    "center_europe = dict(\n",
    "    lat = 55,\n",
    "    lon = 15\n",
    ")\n",
    "layers_europe = [dict(\n",
    "    sourcetype = 'geojson',\n",
    "    source = 'https://raw.githubusercontent.com/wendyrliang/Endangered_Languages/master/data/europe.json?token=AJWK7673N5BGJPICCPMKU3S5ACMFA',\n",
    "    type = 'fill',\n",
    "    color = 'rgba(96,96,96,0.4)',\n",
    "    below = 'state-label-sm'\n",
    ")]\n",
    "\n",
    "# North America\n",
    "center_namerica = dict(\n",
    "    lat = 54,\n",
    "    lon = -105\n",
    ")\n",
    "layers_namerica = [dict(\n",
    "    sourcetype = 'geojson',\n",
    "    source = 'https://raw.githubusercontent.com/wendyrliang/Endangered_Languages/master/data/n_america.json?token=AJWK767XOGIMWSQGQGA5XRC5ACMH2',\n",
    "    type = 'fill',\n",
    "    color = 'rgba(96,96,96,0.4)',\n",
    "    below = 'state-label-sm'\n",
    ")]\n",
    "\n",
    "# South America\n",
    "center_samerica = dict(\n",
    "    lat = 9,\n",
    "    lon = -55\n",
    ")\n",
    "layers_samerica = [dict(\n",
    "    sourcetype = 'geojson',\n",
    "    source = 'https://raw.githubusercontent.com/wendyrliang/Endangered_Languages/master/data/s_america.json?token=AJWK762IMJASUEGB7W5DJSK5ACMLQ',\n",
    "    type = 'fill',\n",
    "    color = 'rgba(96,96,96,0.4)',\n",
    "    below = 'state-label-sm'\n",
    ")]\n",
    "\n",
    "# Oceania\n",
    "center_oceania = dict(\n",
    "    lat = -23,\n",
    "    lon = 140\n",
    ")\n",
    "layers_oceania = [dict(\n",
    "    sourcetype = 'geojson',\n",
    "    source = 'https://raw.githubusercontent.com/wendyrliang/Endangered_Languages/master/data/oceania.json?token=AJWK762FSEKMZGAHEJTM7GC5ACMNM',\n",
    "    type = 'fill',\n",
    "    color = 'rgba(96,96,96,0.4)',\n",
    "    below = 'state-label-sm'\n",
    ")]"
   ]
  },
  {
   "cell_type": "code",
   "execution_count": 7,
   "metadata": {},
   "outputs": [],
   "source": [
    "# dorp-downs for visulization\n",
    "updatemenus=list([\n",
    "    # drop-down 1: select different degrees to visualize\n",
    "    dict(\n",
    "         buttons=list([\n",
    "            dict(label = 'All Degrees',\n",
    "                 method = 'update',\n",
    "                 args = [{'visible': [True, True, True, True, True]}]),\n",
    "            dict(label = 'Vulnerable',\n",
    "                 method = 'update',\n",
    "                 args = [{'visible': [True, False, False, False, False]}]),\n",
    "            dict(label = 'Definitely Endangered',\n",
    "                 method = 'update',\n",
    "                 args = [{'visible': [False, True, False, False, False]}]),\n",
    "             dict(label = 'Severely Endangered',\n",
    "                 method = 'update',\n",
    "                 args = [{'visible': [False, False, True, False, False]}]),\n",
    "             dict(label = 'Critically Endangered',\n",
    "                 method = 'update',\n",
    "                 args = [{'visible': [False, False, False, True, False]}]),\n",
    "             dict(label = 'Extinct',\n",
    "                 method = 'update',\n",
    "                 args = [{'visible': [False, False, False, False, True]}])\n",
    "             \n",
    "        ]),\n",
    "        # direction where the drop-down expands when opened\n",
    "        direction = 'down',\n",
    "        # positional arguments\n",
    "        x = 0.01,\n",
    "        xanchor = 'left',\n",
    "        y = 0.99,\n",
    "        yanchor = 'bottom',\n",
    "        # fonts and border\n",
    "        bgcolor = '#FFFFFF',\n",
    "        bordercolor = '#000000',\n",
    "        font = dict(size=11)\n",
    "    ),\n",
    "    \n",
    "    # drop-down 2: select different continent\n",
    "    dict(\n",
    "        buttons = list([\n",
    "            dict(\n",
    "                label = 'North America',\n",
    "                method = 'relayout',\n",
    "                args = [{\n",
    "                    'mapbox.center' : center_namerica,\n",
    "                    'mapbox.layers' : layers_namerica,\n",
    "                    'mapbox.zoom' : 2\n",
    "                }]\n",
    "            ),\n",
    "            dict(\n",
    "                label = 'South America',\n",
    "                method = 'relayout',\n",
    "                args = [{\n",
    "                    'mapbox.center' : center_samerica,\n",
    "                    'mapbox.layers' : layers_samerica,\n",
    "                    'mapbox.zoom' : 2\n",
    "                }]\n",
    "            ),\n",
    "            dict(\n",
    "                label = 'Asia',\n",
    "                method = 'relayout',\n",
    "                args = [{\n",
    "                    'mapbox.center' : center_asia,\n",
    "                    'mapbox.layers': layers_asia,\n",
    "                    'mapbox.zoom' : 2\n",
    "                }]\n",
    "            ),\n",
    "            dict(\n",
    "                label = 'Africa',\n",
    "                method = 'relayout',\n",
    "                args = [{\n",
    "                    'mapbox.center' : center_africa,\n",
    "                    'mapbox.layers' : layers_africa,\n",
    "                    'mapbox.zoom' : 2\n",
    "                }]\n",
    "            ),\n",
    "            dict(\n",
    "                label = 'Europe',\n",
    "                method = 'relayout',\n",
    "                args = [{\n",
    "                    'mapbox.center' : center_europe,\n",
    "                    'mapbox.layers' : layers_europe,\n",
    "                    'mapbox.zoom' : 2\n",
    "                }]\n",
    "            ),\n",
    "            dict(\n",
    "                label = 'Oceania',\n",
    "                method = 'relayout',\n",
    "                args = [{\n",
    "                    'mapbox.center' : center_oceania,\n",
    "                    'mapbox.layers' : layers_oceania,\n",
    "                    'mapbox.zoom' : 2\n",
    "                }]\n",
    "            )\n",
    "        ]),\n",
    "        # direction where I want the menu to expand when I click on it\n",
    "        direction = 'up',\n",
    "      \n",
    "        # here I specify where I want to place this drop-down on the map\n",
    "        x = 0.80,\n",
    "        xanchor = 'left',\n",
    "        y = 0.05,\n",
    "        yanchor = 'bottom',\n",
    "      \n",
    "        # specify font size and colors\n",
    "        bgcolor = '#FFFFFF',\n",
    "        bordercolor = '#000000',\n",
    "        font = dict(size=11)\n",
    "    )\n",
    "])\n",
    "\n",
    "# assign the list of dictionaries to the global layout dictionary\n",
    "layout['updatemenus'] = updatemenus"
   ]
  },
  {
   "cell_type": "code",
   "execution_count": 8,
   "metadata": {},
   "outputs": [],
   "source": [
    "# display mapy name\n",
    "annotations = [dict(\n",
    "              text = 'Endangered Languages around the World',\n",
    "              font = dict(color = '#000000', size = 14), borderpad = 10,\n",
    "              x = 0.05, y = 0.05, xref = 'paper', yref = 'paper', align = 'left',\n",
    "              showarrow = False, bgcolor = '#FFFFFF'\n",
    "              )]\n",
    "\n",
    "# assigning the annotations to the layout\n",
    "layout['annotations'] = annotations"
   ]
  },
  {
   "cell_type": "code",
   "execution_count": 9,
   "metadata": {
    "scrolled": false
   },
   "outputs": [
    {
     "name": "stderr",
     "output_type": "stream",
     "text": [
      "/usr/local/lib/python3.7/site-packages/IPython/core/display.py:689: UserWarning:\n",
      "\n",
      "Consider using IPython.display.IFrame instead\n",
      "\n"
     ]
    },
    {
     "data": {
      "text/html": [
       "<iframe id=\"igraph\" scrolling=\"no\" style=\"border:none;\" seamless=\"seamless\" src=\"https://plot.ly/~WendyLiang/6.embed\" height=\"800px\" width=\"100%\"></iframe>"
      ],
      "text/plain": [
       "<chart_studio.tools.PlotlyDisplay object>"
      ]
     },
     "execution_count": 9,
     "metadata": {},
     "output_type": "execute_result"
    }
   ],
   "source": [
    "fig = go.Figure(data=data, layout=layout)\n",
    "py.iplot(fig, filename='Global_EL_degree')"
   ]
  },
  {
   "cell_type": "code",
   "execution_count": 10,
   "metadata": {},
   "outputs": [
    {
     "name": "stderr",
     "output_type": "stream",
     "text": [
      "/usr/local/lib/python3.7/site-packages/plotly/offline/offline.py:524: UserWarning:\n",
      "\n",
      "Your filename `Global_EL_degree` didn't end with .html. Adding .html to the end of your file.\n",
      "\n"
     ]
    },
    {
     "data": {
      "text/plain": [
       "'Global_EL_degree.html'"
      ]
     },
     "execution_count": 10,
     "metadata": {},
     "output_type": "execute_result"
    }
   ],
   "source": [
    "plotly.offline.plot(fig, filename='Global_EL_degree', auto_open=False)"
   ]
  },
  {
   "cell_type": "markdown",
   "metadata": {},
   "source": [
    "Data Analysis"
   ]
  },
  {
   "cell_type": "code",
   "execution_count": 11,
   "metadata": {},
   "outputs": [],
   "source": [
    "import numpy as np\n",
    "import matplotlib.pyplot as plt"
   ]
  },
  {
   "cell_type": "code",
   "execution_count": 12,
   "metadata": {},
   "outputs": [
    {
     "data": {
      "text/plain": [
       "Degree of endangerment\n",
       "Critically endangered    606\n",
       "Definitely endangered    677\n",
       "Extinct                  252\n",
       "Severely endangered      554\n",
       "Vulnerable               627\n",
       "Name: Name in English, dtype: int64"
      ]
     },
     "execution_count": 12,
     "metadata": {},
     "output_type": "execute_result"
    }
   ],
   "source": [
    "# count number of endangered languages for each degree of endangerment\n",
    "# only count unique name of languages\n",
    "degree = df.groupby('Degree of endangerment')['Name in English'].nunique()\n",
    "degree"
   ]
  },
  {
   "cell_type": "code",
   "execution_count": 20,
   "metadata": {},
   "outputs": [
    {
     "data": {
      "image/png": "[encoded data removed]",
      "text/plain": [
       "<Figure size 432x288 with 1 Axes>"
      ]
     },
     "metadata": {
      "needs_background": "light"
     },
     "output_type": "display_data"
    }
   ],
   "source": [
    "# create a bar plot for different degree of endangerment\n",
    "plt.figure()\n",
    "degree_bar = degree.plot.barh(x = 'Degree of endangerment', color='k', alpha=0.6)\n",
    "degree_bar.legend([\"Number of languages\"])\n",
    "plt.title('Endangered languages and degree of endangerment')\n",
    "# Saving the bar plot as pdf file\n",
    "# plt.savefig('degree_bar.pdf')"
   ]
  },
  {
   "cell_type": "code",
   "execution_count": 14,
   "metadata": {},
   "outputs": [
    {
     "data": {
      "text/html": [
       "<div>\n",
       "<style scoped>\n",
       "    .dataframe tbody tr th:only-of-type {\n",
       "        vertical-align: middle;\n",
       "    }\n",
       "\n",
       "    .dataframe tbody tr th {\n",
       "        vertical-align: top;\n",
       "    }\n",
       "\n",
       "    .dataframe thead th {\n",
       "        text-align: right;\n",
       "    }\n",
       "</style>\n",
       "<table border=\"1\" class=\"dataframe\">\n",
       "  <thead>\n",
       "    <tr style=\"text-align: right;\">\n",
       "      <th></th>\n",
       "      <th>Name in English</th>\n",
       "      <th>Countries</th>\n",
       "      <th>Country codes alpha 3</th>\n",
       "      <th>Degree of endangerment</th>\n",
       "      <th>Number of speakers</th>\n",
       "      <th>Latitude</th>\n",
       "      <th>Longitude</th>\n",
       "    </tr>\n",
       "  </thead>\n",
       "  <tbody>\n",
       "    <tr>\n",
       "      <th>0</th>\n",
       "      <td>South Italian</td>\n",
       "      <td>Italy</td>\n",
       "      <td>ITA</td>\n",
       "      <td>1</td>\n",
       "      <td>7500000.0</td>\n",
       "      <td>40.9798</td>\n",
       "      <td>15.2490</td>\n",
       "    </tr>\n",
       "    <tr>\n",
       "      <th>1</th>\n",
       "      <td>Sicilian</td>\n",
       "      <td>Italy</td>\n",
       "      <td>ITA</td>\n",
       "      <td>1</td>\n",
       "      <td>5000000.0</td>\n",
       "      <td>37.4399</td>\n",
       "      <td>14.5019</td>\n",
       "    </tr>\n",
       "    <tr>\n",
       "      <th>2</th>\n",
       "      <td>Low Saxon</td>\n",
       "      <td>Germany, Denmark, Netherlands, Poland, Russian...</td>\n",
       "      <td>DEU, DNK, NLD, POL, RUS</td>\n",
       "      <td>1</td>\n",
       "      <td>4800000.0</td>\n",
       "      <td>53.4029</td>\n",
       "      <td>10.3601</td>\n",
       "    </tr>\n",
       "    <tr>\n",
       "      <th>3</th>\n",
       "      <td>Belarusian</td>\n",
       "      <td>Belarus, Latvia, Lithuania, Poland, Russian Fe...</td>\n",
       "      <td>BRB, LVA, LTU, POL, RUS, UKR</td>\n",
       "      <td>1</td>\n",
       "      <td>4000000.0</td>\n",
       "      <td>53.9560</td>\n",
       "      <td>27.5756</td>\n",
       "    </tr>\n",
       "    <tr>\n",
       "      <th>4</th>\n",
       "      <td>Lombard</td>\n",
       "      <td>Italy, Switzerland</td>\n",
       "      <td>ITA, CHE</td>\n",
       "      <td>2</td>\n",
       "      <td>3500000.0</td>\n",
       "      <td>45.7215</td>\n",
       "      <td>9.3273</td>\n",
       "    </tr>\n",
       "  </tbody>\n",
       "</table>\n",
       "</div>"
      ],
      "text/plain": [
       "  Name in English                                          Countries  \\\n",
       "0   South Italian                                              Italy   \n",
       "1        Sicilian                                              Italy   \n",
       "2       Low Saxon  Germany, Denmark, Netherlands, Poland, Russian...   \n",
       "3      Belarusian  Belarus, Latvia, Lithuania, Poland, Russian Fe...   \n",
       "4         Lombard                                 Italy, Switzerland   \n",
       "\n",
       "          Country codes alpha 3  Degree of endangerment  Number of speakers  \\\n",
       "0                           ITA                       1           7500000.0   \n",
       "1                           ITA                       1           5000000.0   \n",
       "2       DEU, DNK, NLD, POL, RUS                       1           4800000.0   \n",
       "3  BRB, LVA, LTU, POL, RUS, UKR                       1           4000000.0   \n",
       "4                      ITA, CHE                       2           3500000.0   \n",
       "\n",
       "   Latitude  Longitude  \n",
       "0   40.9798    15.2490  \n",
       "1   37.4399    14.5019  \n",
       "2   53.4029    10.3601  \n",
       "3   53.9560    27.5756  \n",
       "4   45.7215     9.3273  "
      ]
     },
     "execution_count": 14,
     "metadata": {},
     "output_type": "execute_result"
    }
   ],
   "source": [
    "# replace degree of endangerment with numbers to study\n",
    "# the correlation between degree of endangerment and number of speakers\n",
    "mapping = {'Vulnerable': 1,\n",
    "           'Definitely endangered': 2,\n",
    "           'Severely endangered': 3,\n",
    "           'Critically endangered': 4,\n",
    "           'Extinct': 5}\n",
    "number = df.replace({'Degree of endangerment' : mapping})\n",
    "number.head()"
   ]
  },
  {
   "cell_type": "code",
   "execution_count": 15,
   "metadata": {},
   "outputs": [
    {
     "name": "stdout",
     "output_type": "stream",
     "text": [
      "<class 'pandas.core.frame.DataFrame'>\n",
      "Int64Index: 2535 entries, 0 to 2538\n",
      "Data columns (total 7 columns):\n",
      "Name in English           2535 non-null object\n",
      "Countries                 2535 non-null object\n",
      "Country codes alpha 3     2535 non-null object\n",
      "Degree of endangerment    2535 non-null int64\n",
      "Number of speakers        2535 non-null float64\n",
      "Latitude                  2535 non-null float64\n",
      "Longitude                 2535 non-null float64\n",
      "dtypes: float64(3), int64(1), object(3)\n",
      "memory usage: 158.4+ KB\n"
     ]
    }
   ],
   "source": [
    "# drop all null number of speakers\n",
    "number = number[pd.notnull(df['Number of speakers'])]\n",
    "number.info()"
   ]
  },
  {
   "cell_type": "code",
   "execution_count": 16,
   "metadata": {},
   "outputs": [
    {
     "name": "stdout",
     "output_type": "stream",
     "text": [
      "<class 'pandas.core.frame.DataFrame'>\n",
      "Int64Index: 2535 entries, 0 to 2538\n",
      "Data columns (total 7 columns):\n",
      "Name in English           2535 non-null object\n",
      "Countries                 2535 non-null object\n",
      "Country codes alpha 3     2535 non-null object\n",
      "Degree of endangerment    2535 non-null int64\n",
      "Number of speakers        2535 non-null int64\n",
      "Latitude                  2535 non-null float64\n",
      "Longitude                 2535 non-null float64\n",
      "dtypes: float64(2), int64(2), object(3)\n",
      "memory usage: 158.4+ KB\n"
     ]
    }
   ],
   "source": [
    "# convert Number of speakers to int\n",
    "number['Number of speakers'] = number['Number of speakers'].astype(int)\n",
    "number.info()"
   ]
  },
  {
   "cell_type": "code",
   "execution_count": 18,
   "metadata": {},
   "outputs": [
    {
     "data": {
      "text/plain": [
       "<Figure size 432x288 with 0 Axes>"
      ]
     },
     "metadata": {},
     "output_type": "display_data"
    },
    {
     "data": {
      "image/png": "[encoded data removed]",
      "text/plain": [
       "<Figure size 432x288 with 1 Axes>"
      ]
     },
     "metadata": {
      "needs_background": "light"
     },
     "output_type": "display_data"
    }
   ],
   "source": [
    "# scatter plot\n",
    "plt.figure()\n",
    "number_scatter = number.plot.scatter(x = 'Degree of endangerment', y = 'Number of speakers')\n",
    "plt.xticks(np.arange(1, 6),('Vulnerable', 'Definitely endangered', 'Severely endangered', 'Critically endangered', 'Extinct'), rotation =30)\n",
    "plt.title('Correlation between Degree of Endangerment and Number of Speakers')\n",
    "# Saving the bar plot as pdf file\n",
    "# plt.savefig('degree_number.pdf')"
   ]
  },
  {
   "cell_type": "code",
   "execution_count": null,
   "metadata": {},
   "outputs": [],
   "source": []
  }
 ],
 "metadata": {
  "kernelspec": {
   "display_name": "Python 3",
   "language": "python",
   "name": "python3"
  },
  "language_info": {
   "codemirror_mode": {
    "name": "ipython",
    "version": 3
   },
   "file_extension": ".py",
   "mimetype": "text/x-python",
   "name": "python",
   "nbconvert_exporter": "python",
   "pygments_lexer": "ipython3",
   "version": "3.7.3"
  }
 },
 "nbformat": 4,
 "nbformat_minor": 2
}
