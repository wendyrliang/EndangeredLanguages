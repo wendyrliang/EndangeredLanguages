{
 "cells": [
  {
   "cell_type": "markdown",
   "metadata": {},
   "source": [
    "References for map plot:"
   ]
  },
  {
   "cell_type": "markdown",
   "metadata": {},
   "source": [
    "Interactive map plots with Plotly: https://towardsdatascience.com/how-to-create-interactive-map-plots-with-plotly-7b57e889239a"
   ]
  },
  {
   "cell_type": "markdown",
   "metadata": {},
   "source": [
    "Changed the dataset; customized layout, different color for data analysis and visualization; added different ways of interaction"
   ]
  },
  {
   "cell_type": "markdown",
   "metadata": {},
   "source": [
    "Mapbox Choropleth Maps in Python: https://plot.ly/python/mapbox-county-choropleth/"
   ]
  },
  {
   "cell_type": "markdown",
   "metadata": {},
   "source": [
    "Adapted layers from the code"
   ]
  },
  {
   "cell_type": "code",
   "execution_count": 1,
   "metadata": {},
   "outputs": [],
   "source": [
    "import plotly.plotly as py\n",
    "import plotly.graph_objs as go\n",
    "import plotly\n",
    "import pandas as pd\n",
    "import numpy as np"
   ]
  },
  {
   "cell_type": "markdown",
   "metadata": {},
   "source": [
    "The combined data have coordinates in one column, need to separate them to latitude and longitude first"
   ]
  },
  {
   "cell_type": "code",
   "execution_count": 2,
   "metadata": {},
   "outputs": [
    {
     "name": "stdout",
     "output_type": "stream",
     "text": [
      "<class 'pandas.core.frame.DataFrame'>\n",
      "RangeIndex: 5492 entries, 0 to 5491\n",
      "Data columns (total 6 columns):\n",
      "Language                 5492 non-null object\n",
      "Level of Endangerment    5492 non-null object\n",
      "Number of Speakers       5309 non-null object\n",
      "Linguistic Family        5492 non-null object\n",
      "Countries                5491 non-null object\n",
      "Coordinates              5492 non-null object\n",
      "dtypes: object(6)\n",
      "memory usage: 257.5+ KB\n"
     ]
    }
   ],
   "source": [
    "# load data\n",
    "df1 = pd.read_csv('./data/Final_Data.csv')\n",
    "df1.info()"
   ]
  },
  {
   "cell_type": "code",
   "execution_count": 3,
   "metadata": {},
   "outputs": [],
   "source": [
    "# store rows to be added\n",
    "new_rows = []\n",
    "# store index of all the rows that need to be droped\n",
    "drop_index = []\n",
    "# iterate through the DataFrame\n",
    "i = 0\n",
    "for i in range(len(df1)):\n",
    "    # check if the row have multiple coordinates\n",
    "    coors = df1.iloc[i]['Coordinates'].split(';')\n",
    "    if len(coors) > 1:\n",
    "        drop_index.append(i)\n",
    "        for coor in coors:\n",
    "            # generate new row to be added to the DataFrame\n",
    "            new_row = [df1.iloc[i]['Language'],\n",
    "                       df1.iloc[i]['Level of Endangerment'],\n",
    "                       df1.iloc[i]['Number of Speakers'],\n",
    "                       df1.iloc[i]['Linguistic Family'],\n",
    "                       df1.iloc[i]['Countries'],\n",
    "                       coor]\n",
    "            # store new row\n",
    "            new_rows.append(new_row)"
   ]
  },
  {
   "cell_type": "code",
   "execution_count": 4,
   "metadata": {},
   "outputs": [
    {
     "name": "stdout",
     "output_type": "stream",
     "text": [
      "<class 'pandas.core.frame.DataFrame'>\n",
      "Int64Index: 5301 entries, 1 to 5491\n",
      "Data columns (total 6 columns):\n",
      "Language                 5301 non-null object\n",
      "Level of Endangerment    5301 non-null object\n",
      "Number of Speakers       5118 non-null object\n",
      "Linguistic Family        5301 non-null object\n",
      "Countries                5300 non-null object\n",
      "Coordinates              5301 non-null object\n",
      "dtypes: object(6)\n",
      "memory usage: 289.9+ KB\n"
     ]
    }
   ],
   "source": [
    "# drop the rows with multiple coordinates in one cell\n",
    "df1 = df1.drop(df1.index[drop_index])\n",
    "df1.info()"
   ]
  },
  {
   "cell_type": "code",
   "execution_count": 5,
   "metadata": {},
   "outputs": [
    {
     "name": "stdout",
     "output_type": "stream",
     "text": [
      "<class 'pandas.core.frame.DataFrame'>\n",
      "RangeIndex: 5822 entries, 0 to 5821\n",
      "Data columns (total 6 columns):\n",
      "Language                 5822 non-null object\n",
      "Level of Endangerment    5822 non-null object\n",
      "Number of Speakers       5639 non-null object\n",
      "Linguistic Family        5822 non-null object\n",
      "Countries                5821 non-null object\n",
      "Coordinates              5822 non-null object\n",
      "dtypes: object(6)\n",
      "memory usage: 273.0+ KB\n"
     ]
    }
   ],
   "source": [
    "# append the new rows to the end of original DataFrame\n",
    "df2 = pd.DataFrame(new_rows, columns=['Language', 'Level of Endangerment', 'Number of Speakers', 'Linguistic Family', 'Countries', 'Coordinates'])\n",
    "df1 = df1.append(df2, ignore_index = True) \n",
    "df1.info()"
   ]
  },
  {
   "cell_type": "code",
   "execution_count": 6,
   "metadata": {},
   "outputs": [
    {
     "name": "stdout",
     "output_type": "stream",
     "text": [
      "<class 'pandas.core.frame.DataFrame'>\n",
      "Int64Index: 5763 entries, 0 to 5821\n",
      "Data columns (total 8 columns):\n",
      "Language                 5763 non-null object\n",
      "Level of Endangerment    5763 non-null object\n",
      "Number of Speakers       5580 non-null object\n",
      "Linguistic Family        5763 non-null object\n",
      "Countries                5763 non-null object\n",
      "Coordinates              5763 non-null object\n",
      "Latitude                 5763 non-null object\n",
      "Longitude                5763 non-null object\n",
      "dtypes: object(8)\n",
      "memory usage: 405.2+ KB\n"
     ]
    }
   ],
   "source": [
    "# Separate the Coordinate column into Latitude and Longitude column\n",
    "lat = []\n",
    "lon = []\n",
    "# interate over the DataFrame and store latitude and longitude data in lists\n",
    "for index, row in df1.iterrows():\n",
    "    coor = row['Coordinates'].split(',')\n",
    "    if len(coor) == 2:\n",
    "        lat.append(coor[0])\n",
    "        lon.append(coor[1])\n",
    "    else:\n",
    "        lat.append(None),\n",
    "        lon.append(None)\n",
    "        \n",
    "# turn lists into Series\n",
    "se_lat = pd.Series(lat)\n",
    "se_lon = pd.Series(lon)\n",
    "\n",
    "# add new columns into DataFrame\n",
    "df1['Latitude'] = se_lat.values\n",
    "df1['Longitude'] = se_lon.values\n",
    "\n",
    "# drop rows with null latitude and longitude\n",
    "df1 = df1[pd.notnull(df1['Latitude'])]\n",
    "df1 = df1[pd.notnull(df1['Countries'])]\n",
    "df1.info()"
   ]
  },
  {
   "cell_type": "markdown",
   "metadata": {},
   "source": [
    "The UNESCO scale have five level of endangerment: Vulnerable, Definitely endangered, Severely endangered, Critically endangered, and Extinct."
   ]
  },
  {
   "cell_type": "markdown",
   "metadata": {},
   "source": [
    "Classify At Risk and Threatened into Vulnerable; Endangered into Definitely endangered; Severely Endangered into Severely endangered; Critically Endangered into Critically endangered; Dormant into Extinct."
   ]
  },
  {
   "cell_type": "markdown",
   "metadata": {},
   "source": [
    "There is only one data in Awakening, so I will leave that."
   ]
  },
  {
   "cell_type": "code",
   "execution_count": 7,
   "metadata": {},
   "outputs": [
    {
     "data": {
      "text/plain": [
       "['Vulnerable',\n",
       " 'Threatened',\n",
       " 'Endangered',\n",
       " 'Definitely endangered',\n",
       " 'Critically endangered',\n",
       " 'Severely endangered',\n",
       " 'Critically Endangered',\n",
       " 'Severely Endangered',\n",
       " 'Extinct',\n",
       " 'At Risk',\n",
       " 'Dormant',\n",
       " 'Awakening ()']"
      ]
     },
     "execution_count": 7,
     "metadata": {},
     "output_type": "execute_result"
    }
   ],
   "source": [
    "# change level of endangerment into a same scale (UNESCO scale)\n",
    "# different level of endangerment in the data\n",
    "levels = list(df1['Level of Endangerment'].value_counts().index)\n",
    "levels"
   ]
  },
  {
   "cell_type": "code",
   "execution_count": 8,
   "metadata": {},
   "outputs": [
    {
     "data": {
      "text/plain": [
       "['Vulnerable',\n",
       " 'Definitely Endangered',\n",
       " 'Critically Endangered',\n",
       " 'Severely Endangered',\n",
       " 'Extinct',\n",
       " 'Awakening']"
      ]
     },
     "execution_count": 8,
     "metadata": {},
     "output_type": "execute_result"
    }
   ],
   "source": [
    "# unify endangerment scales\n",
    "df1['Level of Endangerment'] = df1['Level of Endangerment'].replace(['At Risk', 'Threatened'], 'Vulnerable')\n",
    "df1['Level of Endangerment'] = df1['Level of Endangerment'].replace('Endangered', 'Definitely Endangered')\n",
    "df1['Level of Endangerment'] = df1['Level of Endangerment'].replace('Definitely endangered', 'Definitely Endangered')\n",
    "df1['Level of Endangerment'] = df1['Level of Endangerment'].replace('Severely endangered', 'Severely Endangered')\n",
    "df1['Level of Endangerment'] = df1['Level of Endangerment'].replace('Critically endangered', 'Critically Endangered')\n",
    "df1['Level of Endangerment'] = df1['Level of Endangerment'].replace('Dormant', 'Extinct')\n",
    "df1['Level of Endangerment'] = df1['Level of Endangerment'].replace('Awakening ()', 'Awakening')\n",
    "\n",
    "levels1 = list(df1['Level of Endangerment'].value_counts().index)\n",
    "levels1"
   ]
  },
  {
   "cell_type": "code",
   "execution_count": 9,
   "metadata": {},
   "outputs": [],
   "source": [
    "# export as csv file\n",
    "export_csv = df1.to_csv ('./data/degree_map_data.csv', index = None, header=True)"
   ]
  },
  {
   "cell_type": "markdown",
   "metadata": {},
   "source": [
    "Using the wrangled data to plot the map"
   ]
  },
  {
   "cell_type": "code",
   "execution_count": 10,
   "metadata": {},
   "outputs": [
    {
     "name": "stdout",
     "output_type": "stream",
     "text": [
      "<class 'pandas.core.frame.DataFrame'>\n",
      "RangeIndex: 5763 entries, 0 to 5762\n",
      "Data columns (total 8 columns):\n",
      "Language                 5763 non-null object\n",
      "Level of Endangerment    5763 non-null object\n",
      "Number of Speakers       5580 non-null object\n",
      "Linguistic Family        5763 non-null object\n",
      "Countries                5763 non-null object\n",
      "Coordinates              5763 non-null object\n",
      "Latitude                 5760 non-null float64\n",
      "Longitude                5760 non-null object\n",
      "dtypes: float64(1), object(7)\n",
      "memory usage: 360.3+ KB\n"
     ]
    }
   ],
   "source": [
    "# setting user, api key and access token\n",
    "plotly.tools.set_credentials_file(username='WendyLiang', api_key='0Mqn1LRKjujs81acpAGt')\n",
    "mapbox_access_token = 'pk.eyJ1Ijoid2VuZHlsaWFuZyIsImEiOiJjandhZGVzd3cwOHU0NGFuMHBzdHJvNHdhIn0.15zho30YkMBcHvlAVx4J9w'\n",
    "\n",
    "# load data\n",
    "df = pd.read_csv('./data/degree_map_data.csv')\n",
    "df.info()"
   ]
  },
  {
   "cell_type": "code",
   "execution_count": 11,
   "metadata": {},
   "outputs": [
    {
     "name": "stdout",
     "output_type": "stream",
     "text": [
      "<class 'pandas.core.frame.DataFrame'>\n",
      "Int64Index: 5760 entries, 0 to 5762\n",
      "Data columns (total 8 columns):\n",
      "Language                 5760 non-null object\n",
      "Level of Endangerment    5760 non-null object\n",
      "Number of Speakers       5577 non-null object\n",
      "Linguistic Family        5760 non-null object\n",
      "Countries                5760 non-null object\n",
      "Coordinates              5760 non-null object\n",
      "Latitude                 5760 non-null float64\n",
      "Longitude                5760 non-null object\n",
      "dtypes: float64(1), object(7)\n",
      "memory usage: 405.0+ KB\n"
     ]
    }
   ],
   "source": [
    "# drop rows with no coordinate info\n",
    "df = df[pd.notnull(df['Latitude'])]\n",
    "df = df[pd.notnull(df['Countries'])]\n",
    "\n",
    "df.info()"
   ]
  },
  {
   "cell_type": "markdown",
   "metadata": {},
   "source": [
    "Data Visualization with Map Plot"
   ]
  },
  {
   "cell_type": "code",
   "execution_count": 12,
   "metadata": {},
   "outputs": [],
   "source": [
    "# there are five level of endangerment in the data\n",
    "degrees = ['Vulnerable', 'Definitely Endangered', 'Severely Endangered', 'Critically Endangered', 'Extinct', 'Awakening']\n",
    "\n",
    "# represent each degree of endangerment with a different color\n",
    "colors = [\"rgb(81,235,147)\", \"rgb(81,112,235)\", \"rgb(209,81,235)\", \"rgb(235,81,81)\", \"rgb(47,60,60)\", \"rgb(255,215,0)\"]"
   ]
  },
  {
   "cell_type": "code",
   "execution_count": 13,
   "metadata": {},
   "outputs": [],
   "source": [
    "# put data of the plot in a dictionary\n",
    "data = []\n",
    "for i in range(len(degrees)):\n",
    "    degree = degrees[i]\n",
    "    degree_data = go.Scattermapbox(\n",
    "        # we need coordinate, endangerment level and name of the languages\n",
    "        lat = df.loc[df['Level of Endangerment'] == degree, 'Latitude'],\n",
    "        lon = df.loc[df['Level of Endangerment'] == degree, 'Longitude'],\n",
    "        text = df.loc[df['Level of Endangerment'] == degree, ['Language', 'Number of Speakers']],\n",
    "        mode = 'markers',\n",
    "        marker = go.scattermapbox.Marker(\n",
    "            # size and color of each dot\n",
    "            size = 8,\n",
    "            opacity = 1,\n",
    "            color = colors[i]\n",
    "        ),\n",
    "        name = degree,\n",
    "        # display name of the language when hover over\n",
    "        # uncomment the next line map will not display coordinates information\n",
    "        # hoverinfo = 'text',\n",
    "        type = 'scattermapbox'\n",
    "    )\n",
    "    data.append(degree_data)"
   ]
  },
  {
   "cell_type": "code",
   "execution_count": 14,
   "metadata": {},
   "outputs": [],
   "source": [
    "# layout of the map\n",
    "layout = go.Layout(\n",
    "    height = 800,\n",
    "    hovermode='closest',\n",
    "    # top, bottom, left and right margins\n",
    "    margin = dict(t = 1.5, b = 1, l = 1, r = 1),\n",
    "    font = dict(color = '#000000', size = 11),\n",
    "    paper_bgcolor = '#FFFFFF',\n",
    "    mapbox = dict(\n",
    "        accesstoken = mapbox_access_token,\n",
    "        bearing = 0,\n",
    "        # center the map at the US at beginning\n",
    "        center = dict(\n",
    "            lat = 38,\n",
    "            lon = -94\n",
    "        ),\n",
    "        pitch = 0, # set the map to be \"parallel\" to our screen, with no angle\n",
    "        zoom = 3, # default level of zoom\n",
    "        style = 'light' # default map style\n",
    "    )\n",
    ")"
   ]
  },
  {
   "cell_type": "code",
   "execution_count": 15,
   "metadata": {},
   "outputs": [],
   "source": [
    "# relayout the map when different continents are selected\n",
    "# center the map on the coresponsing continent\n",
    "# color the continent area in dark gray\n",
    "# Africa\n",
    "center_africa = dict(\n",
    "    lat = 9,\n",
    "    lon = 35\n",
    ")\n",
    "layers_africa = [dict(\n",
    "    sourcetype = 'geojson',\n",
    "    source = 'https://raw.githubusercontent.com/wendyrliang/Endangered_Languages/master/data/africa.json?token=AJWK76ZRV6JFOSIZOHPADV25ACL7Q',\n",
    "    type = 'fill',\n",
    "    color = 'rgba(96,96,96,0.4)',\n",
    "    below = 'state-label-sm'\n",
    ")]\n",
    "    \n",
    "# Asia\n",
    "center_asia = dict(\n",
    "    lat = 34,\n",
    "    lon = 101\n",
    ")\n",
    "layers_asia = [dict(\n",
    "    sourcetype = 'geojson',\n",
    "    source = 'https://raw.githubusercontent.com/wendyrliang/Endangered_Languages/master/data/asia.json?token=AJWK767HG4ADK4YDPYVHOPS5ACMBS',\n",
    "     type = 'fill',\n",
    "    color = 'rgba(96,96,96,0.4)',\n",
    "    below = 'state-label-sm'\n",
    ")]\n",
    "\n",
    "# Europe\n",
    "center_europe = dict(\n",
    "    lat = 55,\n",
    "    lon = 15\n",
    ")\n",
    "layers_europe = [dict(\n",
    "    sourcetype = 'geojson',\n",
    "    source = 'https://raw.githubusercontent.com/wendyrliang/Endangered_Languages/master/data/europe.json?token=AJWK7673N5BGJPICCPMKU3S5ACMFA',\n",
    "    type = 'fill',\n",
    "    color = 'rgba(96,96,96,0.4)',\n",
    "    below = 'state-label-sm'\n",
    ")]\n",
    "\n",
    "# North America\n",
    "center_namerica = dict(\n",
    "    lat = 54,\n",
    "    lon = -105\n",
    ")\n",
    "layers_namerica = [dict(\n",
    "    sourcetype = 'geojson',\n",
    "    source = 'https://raw.githubusercontent.com/wendyrliang/Endangered_Languages/master/data/n_america.json?token=AJWK767XOGIMWSQGQGA5XRC5ACMH2',\n",
    "    type = 'fill',\n",
    "    color = 'rgba(96,96,96,0.4)',\n",
    "    below = 'state-label-sm'\n",
    ")]\n",
    "\n",
    "# South America\n",
    "center_samerica = dict(\n",
    "    lat = 9,\n",
    "    lon = -55\n",
    ")\n",
    "layers_samerica = [dict(\n",
    "    sourcetype = 'geojson',\n",
    "    source = 'https://raw.githubusercontent.com/wendyrliang/Endangered_Languages/master/data/s_america.json?token=AJWK762IMJASUEGB7W5DJSK5ACMLQ',\n",
    "    type = 'fill',\n",
    "    color = 'rgba(96,96,96,0.4)',\n",
    "    below = 'state-label-sm'\n",
    ")]\n",
    "\n",
    "# Australia\n",
    "center_australia = dict(\n",
    "    lat = -23,\n",
    "    lon = 140\n",
    ")\n",
    "layers_australia = [dict(\n",
    "    sourcetype = 'geojson',\n",
    "    source = 'https://raw.githubusercontent.com/wendyrliang/Endangered_Languages/master/data/oceania.json?token=AJWK762FSEKMZGAHEJTM7GC5ACMNM',\n",
    "    type = 'fill',\n",
    "    color = 'rgba(96,96,96,0.4)',\n",
    "    below = 'state-label-sm'\n",
    ")]\n",
    "\n",
    "# Awakening\n",
    "center_awakening = dict(\n",
    "    lat = -34.35,\n",
    "    lon = 138.48\n",
    "    \n",
    ")"
   ]
  },
  {
   "cell_type": "code",
   "execution_count": 16,
   "metadata": {},
   "outputs": [],
   "source": [
    "# dorp-downs for visulization\n",
    "updatemenus=list([\n",
    "    # drop-down 1: select different degrees to visualize\n",
    "    dict(\n",
    "         buttons=list([\n",
    "            dict(label = 'All Degrees',\n",
    "                 method = 'update',\n",
    "                 args = [{'visible': [True, True, True, True, True, True]}]),\n",
    "            dict(label = 'Vulnerable',\n",
    "                 method = 'update',\n",
    "                 args = [{'visible': [True, False, False, False, False, False]}]),\n",
    "            dict(label = 'Definitely Endangered',\n",
    "                 method = 'update',\n",
    "                 args = [{'visible': [False, True, False, False, False, False]}]),\n",
    "             dict(label = 'Severely Endangered',\n",
    "                 method = 'update',\n",
    "                 args = [{'visible': [False, False, True, False, False, False]}]),\n",
    "             dict(label = 'Critically Endangered',\n",
    "                 method = 'update',\n",
    "                 args = [{'visible': [False, False, False, True, False, False]}]),\n",
    "             dict(label = 'Extinct',\n",
    "                 method = 'update',\n",
    "                 args = [{'visible': [False, False, False, False, True, False]}]),\n",
    "             dict(label = 'Awakening',\n",
    "                 method = 'relayout',\n",
    "                 args = [{'mapbox.center' : center_awakening,\n",
    "                          'mapbox.zoom' : 5}])\n",
    "             \n",
    "        ]),\n",
    "        # direction where the drop-down expands when opened\n",
    "        direction = 'down',\n",
    "        # positional arguments\n",
    "        x = 0.01,\n",
    "        xanchor = 'left',\n",
    "        y = 0.99,\n",
    "        yanchor = 'bottom',\n",
    "        # fonts and border\n",
    "        bgcolor = '#FFFFFF',\n",
    "        bordercolor = '#000000',\n",
    "        font = dict(size=11)\n",
    "    ),\n",
    "    \n",
    "    # drop-down 2: select different continent\n",
    "    dict(\n",
    "        buttons = list([\n",
    "            dict(\n",
    "                label = 'North America',\n",
    "                method = 'relayout',\n",
    "                args = [{\n",
    "                    'mapbox.center' : center_namerica,\n",
    "                    'mapbox.layers' : layers_namerica,\n",
    "                    'mapbox.zoom' : 2\n",
    "                }]\n",
    "            ),\n",
    "            dict(\n",
    "                label = 'South America',\n",
    "                method = 'relayout',\n",
    "                args = [{\n",
    "                    'mapbox.center' : center_samerica,\n",
    "                    'mapbox.layers' : layers_samerica,\n",
    "                    'mapbox.zoom' : 2\n",
    "                }]\n",
    "            ),\n",
    "            dict(\n",
    "                label = 'Asia',\n",
    "                method = 'relayout',\n",
    "                args = [{\n",
    "                    'mapbox.center' : center_asia,\n",
    "                    'mapbox.layers': layers_asia,\n",
    "                    'mapbox.zoom' : 2\n",
    "                }]\n",
    "            ),\n",
    "            dict(\n",
    "                label = 'Africa',\n",
    "                method = 'relayout',\n",
    "                args = [{\n",
    "                    'mapbox.center' : center_africa,\n",
    "                    'mapbox.layers' : layers_africa,\n",
    "                    'mapbox.zoom' : 2\n",
    "                }]\n",
    "            ),\n",
    "            dict(\n",
    "                label = 'Europe',\n",
    "                method = 'relayout',\n",
    "                args = [{\n",
    "                    'mapbox.center' : center_europe,\n",
    "                    'mapbox.layers' : layers_europe,\n",
    "                    'mapbox.zoom' : 2\n",
    "                }]\n",
    "            ),\n",
    "            dict(\n",
    "                label = 'Australia',\n",
    "                method = 'relayout',\n",
    "                args = [{\n",
    "                    'mapbox.center' : center_australia,\n",
    "                    'mapbox.layers' : layers_australia,\n",
    "                    'mapbox.zoom' : 2\n",
    "                }]\n",
    "            )\n",
    "        ]),\n",
    "        # direction where I want the menu to expand when I click on it\n",
    "        direction = 'up',\n",
    "      \n",
    "        # here I specify where I want to place this drop-down on the map\n",
    "        x = 0.80,\n",
    "        xanchor = 'left',\n",
    "        y = 0.05,\n",
    "        yanchor = 'bottom',\n",
    "      \n",
    "        # specify font size and colors\n",
    "        bgcolor = '#FFFFFF',\n",
    "        bordercolor = '#000000',\n",
    "        font = dict(size=11)\n",
    "    )\n",
    "])\n",
    "\n",
    "# assign the list of dictionaries to the global layout dictionary\n",
    "layout['updatemenus'] = updatemenus"
   ]
  },
  {
   "cell_type": "code",
   "execution_count": 17,
   "metadata": {},
   "outputs": [],
   "source": [
    "# display mapy name\n",
    "annotations = [dict(\n",
    "              text = 'Endangered Languages Around the World',\n",
    "              font = dict(color = '#000000', size = 14), borderpad = 10,\n",
    "              x = 0.05, y = 0.05, xref = 'paper', yref = 'paper', align = 'left',\n",
    "              showarrow = False, bgcolor = '#FFFFFF'\n",
    "              )]\n",
    "\n",
    "# assigning the annotations to the layout\n",
    "layout['annotations'] = annotations"
   ]
  },
  {
   "cell_type": "code",
   "execution_count": 18,
   "metadata": {
    "scrolled": false
   },
   "outputs": [
    {
     "name": "stderr",
     "output_type": "stream",
     "text": [
      "/usr/local/lib/python3.7/site-packages/IPython/core/display.py:689: UserWarning:\n",
      "\n",
      "Consider using IPython.display.IFrame instead\n",
      "\n"
     ]
    },
    {
     "data": {
      "text/html": [
       "<iframe id=\"igraph\" scrolling=\"no\" style=\"border:none;\" seamless=\"seamless\" src=\"https://plot.ly/~WendyLiang/6.embed\" height=\"800px\" width=\"100%\"></iframe>"
      ],
      "text/plain": [
       "<chart_studio.tools.PlotlyDisplay object>"
      ]
     },
     "execution_count": 18,
     "metadata": {},
     "output_type": "execute_result"
    }
   ],
   "source": [
    "fig = go.Figure(data=data, layout=layout)\n",
    "py.iplot(fig, filename='Global_EL_degree')"
   ]
  },
  {
   "cell_type": "code",
   "execution_count": 19,
   "metadata": {},
   "outputs": [
    {
     "name": "stderr",
     "output_type": "stream",
     "text": [
      "/usr/local/lib/python3.7/site-packages/plotly/offline/offline.py:524: UserWarning:\n",
      "\n",
      "Your filename `Global_EL_degree` didn't end with .html. Adding .html to the end of your file.\n",
      "\n"
     ]
    },
    {
     "data": {
      "text/plain": [
       "'Global_EL_degree.html'"
      ]
     },
     "execution_count": 19,
     "metadata": {},
     "output_type": "execute_result"
    }
   ],
   "source": [
    "plotly.offline.plot(fig, filename='Global_EL_degree', auto_open=False)"
   ]
  },
  {
   "cell_type": "markdown",
   "metadata": {},
   "source": [
    "Data Analysis"
   ]
  },
  {
   "cell_type": "code",
   "execution_count": 20,
   "metadata": {},
   "outputs": [],
   "source": [
    "import numpy as np\n",
    "import matplotlib.pyplot as plt"
   ]
  },
  {
   "cell_type": "code",
   "execution_count": 21,
   "metadata": {},
   "outputs": [
    {
     "data": {
      "text/plain": [
       "Level of Endangerment\n",
       "Awakening                   1\n",
       "Critically Endangered     874\n",
       "Definitely Endangered    1296\n",
       "Extinct                   317\n",
       "Severely Endangered       811\n",
       "Vulnerable               1793\n",
       "Name: Language, dtype: int64"
      ]
     },
     "execution_count": 21,
     "metadata": {},
     "output_type": "execute_result"
    }
   ],
   "source": [
    "# count number of endangered languages for each degree of endangerment\n",
    "# only count unique name of languages\n",
    "degree = df.groupby('Level of Endangerment')['Language'].nunique()\n",
    "degree"
   ]
  },
  {
   "cell_type": "code",
   "execution_count": 22,
   "metadata": {},
   "outputs": [
    {
     "data": {
      "text/plain": [
       "Text(0.5, 1.0, 'Endangered languages and degree of endangerment')"
      ]
     },
     "execution_count": 22,
     "metadata": {},
     "output_type": "execute_result"
    },
    {
     "data": {
      "image/png": "[encoded data removed]",
      "text/plain": [
       "<Figure size 432x288 with 1 Axes>"
      ]
     },
     "metadata": {
      "needs_background": "light"
     },
     "output_type": "display_data"
    }
   ],
   "source": [
    "# create a bar plot for different degree of endangerment\n",
    "plt.figure()\n",
    "degree_bar = degree.plot.barh(x = 'Level of Endangerment', color='k', alpha=0.6)\n",
    "plt.title('Endangered languages and degree of endangerment')\n",
    "# Saving the bar plot as pdf file\n",
    "# plt.savefig('degree_bar.pdf')"
   ]
  },
  {
   "cell_type": "code",
   "execution_count": null,
   "metadata": {},
   "outputs": [],
   "source": []
  }
 ],
 "metadata": {
  "kernelspec": {
   "display_name": "Python 3",
   "language": "python",
   "name": "python3"
  },
  "language_info": {
   "codemirror_mode": {
    "name": "ipython",
    "version": 3
   },
   "file_extension": ".py",
   "mimetype": "text/x-python",
   "name": "python",
   "nbconvert_exporter": "python",
   "pygments_lexer": "ipython3",
   "version": "3.7.3"
  }
 },
 "nbformat": 4,
 "nbformat_minor": 2
}
