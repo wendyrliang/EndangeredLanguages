{
 "cells": [
  {
   "cell_type": "code",
   "execution_count": 1,
   "metadata": {},
   "outputs": [
    {
     "name": "stdout",
     "output_type": "stream",
     "text": [
      "<class 'pandas.core.frame.DataFrame'>\n",
      "RangeIndex: 5492 entries, 0 to 5491\n",
      "Data columns (total 6 columns):\n",
      "Language                 5492 non-null object\n",
      "Level of Endangerment    5492 non-null object\n",
      "Number of Speakers       5309 non-null object\n",
      "Linguistic Family        5492 non-null object\n",
      "Countries                5491 non-null object\n",
      "Coordinates              5492 non-null object\n",
      "dtypes: object(6)\n",
      "memory usage: 257.5+ KB\n"
     ]
    }
   ],
   "source": [
    "import plotly.plotly as py\n",
    "import plotly.graph_objs as go\n",
    "import plotly\n",
    "import pandas as pd\n",
    "import numpy as np\n",
    "\n",
    "# setting user, api key and access token\n",
    "plotly.tools.set_credentials_file(username='WendyLiang', api_key='0Mqn1LRKjujs81acpAGt')\n",
    "mapbox_access_token = 'pk.eyJ1Ijoid2VuZHlsaWFuZyIsImEiOiJjandhZGVzd3cwOHU0NGFuMHBzdHJvNHdhIn0.15zho30YkMBcHvlAVx4J9w'\n",
    "\n",
    "# load data\n",
    "df = pd.read_csv('./data/Final_Data.csv')\n",
    "df.info()"
   ]
  },
  {
   "cell_type": "code",
   "execution_count": 2,
   "metadata": {},
   "outputs": [],
   "source": [
    "# store rows to be added\n",
    "new_rows = []\n",
    "# store index of all the rows that need to be droped\n",
    "drop_index = []\n",
    "# iterate through the DataFrame\n",
    "i = 0\n",
    "for i in range(len(df)):\n",
    "    # check if the row have multiple coordinates\n",
    "    coors = df.iloc[i]['Coordinates'].split(';')\n",
    "    if len(coors) > 1:\n",
    "        drop_index.append(i)\n",
    "        for coor in coors:\n",
    "            # generate new row to be added to the DataFrame\n",
    "            new_row = [df.iloc[i]['Language'],\n",
    "                       df.iloc[i]['Level of Endangerment'],\n",
    "                       df.iloc[i]['Number of Speakers'],\n",
    "                       df.iloc[i]['Linguistic Family'],\n",
    "                       df.iloc[i]['Countries'],\n",
    "                       coor]\n",
    "            # store new row\n",
    "            new_rows.append(new_row)"
   ]
  },
  {
   "cell_type": "code",
   "execution_count": 3,
   "metadata": {},
   "outputs": [
    {
     "name": "stdout",
     "output_type": "stream",
     "text": [
      "<class 'pandas.core.frame.DataFrame'>\n",
      "Int64Index: 5301 entries, 1 to 5491\n",
      "Data columns (total 6 columns):\n",
      "Language                 5301 non-null object\n",
      "Level of Endangerment    5301 non-null object\n",
      "Number of Speakers       5118 non-null object\n",
      "Linguistic Family        5301 non-null object\n",
      "Countries                5300 non-null object\n",
      "Coordinates              5301 non-null object\n",
      "dtypes: object(6)\n",
      "memory usage: 289.9+ KB\n"
     ]
    }
   ],
   "source": [
    "# drop the rows with multiple coordinates in one cell\n",
    "df = df.drop(df.index[drop_index])\n",
    "df.info()"
   ]
  },
  {
   "cell_type": "code",
   "execution_count": 4,
   "metadata": {},
   "outputs": [
    {
     "name": "stdout",
     "output_type": "stream",
     "text": [
      "<class 'pandas.core.frame.DataFrame'>\n",
      "RangeIndex: 5822 entries, 0 to 5821\n",
      "Data columns (total 6 columns):\n",
      "Language                 5822 non-null object\n",
      "Level of Endangerment    5822 non-null object\n",
      "Number of Speakers       5639 non-null object\n",
      "Linguistic Family        5822 non-null object\n",
      "Countries                5821 non-null object\n",
      "Coordinates              5822 non-null object\n",
      "dtypes: object(6)\n",
      "memory usage: 273.0+ KB\n"
     ]
    }
   ],
   "source": [
    "# append the new rows to the end of original DataFrame\n",
    "df2 = pd.DataFrame(new_rows, columns=['Language', 'Level of Endangerment', 'Number of Speakers', 'Linguistic Family', 'Countries', 'Coordinates'])\n",
    "df = df.append(df2, ignore_index = True) \n",
    "df.info()"
   ]
  },
  {
   "cell_type": "code",
   "execution_count": 5,
   "metadata": {},
   "outputs": [
    {
     "name": "stdout",
     "output_type": "stream",
     "text": [
      "<class 'pandas.core.frame.DataFrame'>\n",
      "Int64Index: 5763 entries, 0 to 5821\n",
      "Data columns (total 8 columns):\n",
      "Language                 5763 non-null object\n",
      "Level of Endangerment    5763 non-null object\n",
      "Number of Speakers       5580 non-null object\n",
      "Linguistic Family        5763 non-null object\n",
      "Countries                5763 non-null object\n",
      "Coordinates              5763 non-null object\n",
      "Latitude                 5763 non-null object\n",
      "Longitude                5763 non-null object\n",
      "dtypes: object(8)\n",
      "memory usage: 405.2+ KB\n"
     ]
    }
   ],
   "source": [
    "# Separate the Coordinate column into Latitude and Longitude column\n",
    "lat = []\n",
    "lon = []\n",
    "# interate over the DataFrame and store latitude and longitude data in lists\n",
    "for index, row in df.iterrows():\n",
    "    coor = row['Coordinates'].split(',')\n",
    "    if len(coor) == 2:\n",
    "        lat.append(coor[0])\n",
    "        lon.append(coor[1])\n",
    "    else:\n",
    "        lat.append(None),\n",
    "        lon.append(None)\n",
    "        \n",
    "# turn lists into Series\n",
    "se_lat = pd.Series(lat)\n",
    "se_lon = pd.Series(lon)\n",
    "\n",
    "# add new columns into DataFrame\n",
    "df['Latitude'] = se_lat.values\n",
    "df['Longitude'] = se_lon.values\n",
    "\n",
    "# drop rows with null latitude and longitude\n",
    "df = df[pd.notnull(df['Latitude'])]\n",
    "df = df[pd.notnull(df['Countries'])]\n",
    "df.info()"
   ]
  },
  {
   "cell_type": "code",
   "execution_count": 6,
   "metadata": {},
   "outputs": [],
   "source": [
    "# export as csv file\n",
    "# export_csv = df.to_csv ('./data/map_data.csv', index = None, header=True)"
   ]
  },
  {
   "cell_type": "markdown",
   "metadata": {},
   "source": [
    "Two datasets each have their own scale of endangerment, need to unify them in to UNESCO scale"
   ]
  },
  {
   "cell_type": "code",
   "execution_count": 7,
   "metadata": {},
   "outputs": [
    {
     "data": {
      "text/plain": [
       "['Vulnerable',\n",
       " 'Threatened',\n",
       " 'Endangered',\n",
       " 'Definitely endangered',\n",
       " 'Critically endangered',\n",
       " 'Severely endangered',\n",
       " 'Critically Endangered',\n",
       " 'Severely Endangered',\n",
       " 'Extinct',\n",
       " 'At Risk',\n",
       " 'Dormant',\n",
       " 'Awakening ()']"
      ]
     },
     "execution_count": 7,
     "metadata": {},
     "output_type": "execute_result"
    }
   ],
   "source": [
    "# change level of endangerment into a same scale (UNESCO scale)\n",
    "# different level of endangerment in the data\n",
    "levels = list(df['Level of Endangerment'].value_counts().index)\n",
    "levels"
   ]
  },
  {
   "cell_type": "markdown",
   "metadata": {},
   "source": [
    "The UNESCO scale have five level of endangerment: Vulnerable, Definitely endangered, Severely endangered, Critically endangered, and Extinct."
   ]
  },
  {
   "cell_type": "markdown",
   "metadata": {},
   "source": [
    "Classify At Risk and Threatened into Vulnerable; Endangered into Definitely endangered; Severely Endangered into Severely endangered; Critically Endangered into Critically endangered; Dormant into Extinct."
   ]
  },
  {
   "cell_type": "markdown",
   "metadata": {},
   "source": [
    "There is only one data in Awakening, so I will leave that."
   ]
  },
  {
   "cell_type": "code",
   "execution_count": 8,
   "metadata": {},
   "outputs": [
    {
     "data": {
      "text/plain": [
       "['Vulnerable',\n",
       " 'Definitely endangered',\n",
       " 'Critically endangered',\n",
       " 'Severely endangered',\n",
       " 'Extinct',\n",
       " 'Awakening']"
      ]
     },
     "execution_count": 8,
     "metadata": {},
     "output_type": "execute_result"
    }
   ],
   "source": [
    "# unify endangerment scales\n",
    "df['Level of Endangerment'] = df['Level of Endangerment'].replace(['At Risk', 'Threatened'], 'Vulnerable')\n",
    "df['Level of Endangerment'] = df['Level of Endangerment'].replace('Endangered', 'Definitely endangered')\n",
    "df['Level of Endangerment'] = df['Level of Endangerment'].replace('Severely Endangered', 'Severely endangered')\n",
    "df['Level of Endangerment'] = df['Level of Endangerment'].replace('Critically Endangered', 'Critically endangered')\n",
    "df['Level of Endangerment'] = df['Level of Endangerment'].replace('Dormant', 'Extinct')\n",
    "df['Level of Endangerment'] = df['Level of Endangerment'].replace('Awakening ()', 'Awakening')\n",
    "\n",
    "levels1 = list(df['Level of Endangerment'].value_counts().index)\n",
    "levels1"
   ]
  },
  {
   "cell_type": "code",
   "execution_count": 9,
   "metadata": {},
   "outputs": [],
   "source": [
    "# export as csv file\n",
    "export_csv = df.to_csv ('./data/degree_map_data.csv', index = None, header=True)"
   ]
  },
  {
   "cell_type": "code",
   "execution_count": null,
   "metadata": {},
   "outputs": [],
   "source": []
  }
 ],
 "metadata": {
  "kernelspec": {
   "display_name": "Python 3",
   "language": "python",
   "name": "python3"
  },
  "language_info": {
   "codemirror_mode": {
    "name": "ipython",
    "version": 3
   },
   "file_extension": ".py",
   "mimetype": "text/x-python",
   "name": "python",
   "nbconvert_exporter": "python",
   "pygments_lexer": "ipython3",
   "version": "3.7.3"
  }
 },
 "nbformat": 4,
 "nbformat_minor": 2
}
