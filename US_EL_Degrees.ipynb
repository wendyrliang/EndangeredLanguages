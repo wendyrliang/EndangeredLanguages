{
 "cells": [
  {
   "cell_type": "code",
   "execution_count": 1,
   "metadata": {},
   "outputs": [
    {
     "name": "stdout",
     "output_type": "stream",
     "text": [
      "<class 'pandas.core.frame.DataFrame'>\n",
      "RangeIndex: 2722 entries, 0 to 2721\n",
      "Data columns (total 15 columns):\n",
      "ID                             2722 non-null int64\n",
      "Name in English                2722 non-null object\n",
      "Name in French                 2699 non-null object\n",
      "Name in Spanish                2701 non-null object\n",
      "Countries                      2721 non-null object\n",
      "Country codes alpha 3          2721 non-null object\n",
      "ISO639-3 codes                 2458 non-null object\n",
      "Degree of endangerment         2722 non-null object\n",
      "Alternate names                1583 non-null object\n",
      "Name in the language           27 non-null object\n",
      "Number of speakers             2539 non-null float64\n",
      "Sources                        2079 non-null object\n",
      "Latitude                       2719 non-null float64\n",
      "Longitude                      2719 non-null float64\n",
      "Description of the location    1870 non-null object\n",
      "dtypes: float64(3), int64(1), object(11)\n",
      "memory usage: 319.1+ KB\n"
     ]
    }
   ],
   "source": [
    "import plotly.plotly as py\n",
    "import plotly.graph_objs as go\n",
    "import plotly\n",
    "import pandas as pd\n",
    "\n",
    "# setting user, api key and access token\n",
    "plotly.tools.set_credentials_file(username='WendyLiang', api_key='0Mqn1LRKjujs81acpAGt')\n",
    "mapbox_access_token = 'pk.eyJ1Ijoid2VuZHlsaWFuZyIsImEiOiJjandhZGVzd3cwOHU0NGFuMHBzdHJvNHdhIn0.15zho30YkMBcHvlAVx4J9w'\n",
    "\n",
    "# load data\n",
    "df = pd.read_csv('./data/UNESCO.csv')\n",
    "df.info()"
   ]
  },
  {
   "cell_type": "code",
   "execution_count": 2,
   "metadata": {},
   "outputs": [
    {
     "name": "stdout",
     "output_type": "stream",
     "text": [
      "<class 'pandas.core.frame.DataFrame'>\n",
      "Int64Index: 2718 entries, 0 to 2721\n",
      "Data columns (total 7 columns):\n",
      "Name in English           2718 non-null object\n",
      "Countries                 2718 non-null object\n",
      "Country codes alpha 3     2718 non-null object\n",
      "Degree of endangerment    2718 non-null object\n",
      "Number of speakers        2535 non-null float64\n",
      "Latitude                  2718 non-null float64\n",
      "Longitude                 2718 non-null float64\n",
      "dtypes: float64(3), object(4)\n",
      "memory usage: 169.9+ KB\n"
     ]
    },
    {
     "data": {
      "text/html": [
       "<div>\n",
       "<style scoped>\n",
       "    .dataframe tbody tr th:only-of-type {\n",
       "        vertical-align: middle;\n",
       "    }\n",
       "\n",
       "    .dataframe tbody tr th {\n",
       "        vertical-align: top;\n",
       "    }\n",
       "\n",
       "    .dataframe thead th {\n",
       "        text-align: right;\n",
       "    }\n",
       "</style>\n",
       "<table border=\"1\" class=\"dataframe\">\n",
       "  <thead>\n",
       "    <tr style=\"text-align: right;\">\n",
       "      <th></th>\n",
       "      <th>Name in English</th>\n",
       "      <th>Countries</th>\n",
       "      <th>Country codes alpha 3</th>\n",
       "      <th>Degree of endangerment</th>\n",
       "      <th>Number of speakers</th>\n",
       "      <th>Latitude</th>\n",
       "      <th>Longitude</th>\n",
       "    </tr>\n",
       "  </thead>\n",
       "  <tbody>\n",
       "    <tr>\n",
       "      <th>0</th>\n",
       "      <td>South Italian</td>\n",
       "      <td>Italy</td>\n",
       "      <td>ITA</td>\n",
       "      <td>Vulnerable</td>\n",
       "      <td>7500000.0</td>\n",
       "      <td>40.9798</td>\n",
       "      <td>15.2490</td>\n",
       "    </tr>\n",
       "    <tr>\n",
       "      <th>1</th>\n",
       "      <td>Sicilian</td>\n",
       "      <td>Italy</td>\n",
       "      <td>ITA</td>\n",
       "      <td>Vulnerable</td>\n",
       "      <td>5000000.0</td>\n",
       "      <td>37.4399</td>\n",
       "      <td>14.5019</td>\n",
       "    </tr>\n",
       "    <tr>\n",
       "      <th>2</th>\n",
       "      <td>Low Saxon</td>\n",
       "      <td>Germany, Denmark, Netherlands, Poland, Russian...</td>\n",
       "      <td>DEU, DNK, NLD, POL, RUS</td>\n",
       "      <td>Vulnerable</td>\n",
       "      <td>4800000.0</td>\n",
       "      <td>53.4029</td>\n",
       "      <td>10.3601</td>\n",
       "    </tr>\n",
       "    <tr>\n",
       "      <th>3</th>\n",
       "      <td>Belarusian</td>\n",
       "      <td>Belarus, Latvia, Lithuania, Poland, Russian Fe...</td>\n",
       "      <td>BRB, LVA, LTU, POL, RUS, UKR</td>\n",
       "      <td>Vulnerable</td>\n",
       "      <td>4000000.0</td>\n",
       "      <td>53.9560</td>\n",
       "      <td>27.5756</td>\n",
       "    </tr>\n",
       "    <tr>\n",
       "      <th>4</th>\n",
       "      <td>Lombard</td>\n",
       "      <td>Italy, Switzerland</td>\n",
       "      <td>ITA, CHE</td>\n",
       "      <td>Definitely endangered</td>\n",
       "      <td>3500000.0</td>\n",
       "      <td>45.7215</td>\n",
       "      <td>9.3273</td>\n",
       "    </tr>\n",
       "  </tbody>\n",
       "</table>\n",
       "</div>"
      ],
      "text/plain": [
       "  Name in English                                          Countries  \\\n",
       "0   South Italian                                              Italy   \n",
       "1        Sicilian                                              Italy   \n",
       "2       Low Saxon  Germany, Denmark, Netherlands, Poland, Russian...   \n",
       "3      Belarusian  Belarus, Latvia, Lithuania, Poland, Russian Fe...   \n",
       "4         Lombard                                 Italy, Switzerland   \n",
       "\n",
       "          Country codes alpha 3 Degree of endangerment  Number of speakers  \\\n",
       "0                           ITA             Vulnerable           7500000.0   \n",
       "1                           ITA             Vulnerable           5000000.0   \n",
       "2       DEU, DNK, NLD, POL, RUS             Vulnerable           4800000.0   \n",
       "3  BRB, LVA, LTU, POL, RUS, UKR             Vulnerable           4000000.0   \n",
       "4                      ITA, CHE  Definitely endangered           3500000.0   \n",
       "\n",
       "   Latitude  Longitude  \n",
       "0   40.9798    15.2490  \n",
       "1   37.4399    14.5019  \n",
       "2   53.4029    10.3601  \n",
       "3   53.9560    27.5756  \n",
       "4   45.7215     9.3273  "
      ]
     },
     "execution_count": 2,
     "metadata": {},
     "output_type": "execute_result"
    }
   ],
   "source": [
    "# drop rows with no coordinate info\n",
    "df = df[pd.notnull(df['Latitude'])]\n",
    "df = df[pd.notnull(df['Countries'])]\n",
    "\n",
    "# drop informations that we don't need\n",
    "df = pd.DataFrame({'Name in English': df['Name in English'],\n",
    "                   'Countries': df['Countries'],\n",
    "                   'Country codes alpha 3': df['Country codes alpha 3'],\n",
    "                   'Degree of endangerment': df['Degree of endangerment'],\n",
    "                   'Number of speakers': df['Number of speakers'],\n",
    "                   'Latitude': df['Latitude'],\n",
    "                   'Longitude': df['Longitude']\n",
    "})\n",
    "\n",
    "df.info()\n",
    "df.head()"
   ]
  },
  {
   "cell_type": "code",
   "execution_count": 3,
   "metadata": {},
   "outputs": [
    {
     "name": "stdout",
     "output_type": "stream",
     "text": [
      "<class 'pandas.core.frame.DataFrame'>\n",
      "Int64Index: 216 entries, 156 to 2712\n",
      "Data columns (total 7 columns):\n",
      "Name in English           216 non-null object\n",
      "Countries                 216 non-null object\n",
      "Country codes alpha 3     216 non-null object\n",
      "Degree of endangerment    216 non-null object\n",
      "Number of speakers        207 non-null float64\n",
      "Latitude                  216 non-null float64\n",
      "Longitude                 216 non-null float64\n",
      "dtypes: float64(3), object(4)\n",
      "memory usage: 13.5+ KB\n"
     ]
    }
   ],
   "source": [
    "# select US data\n",
    "usa = df.loc[df['Country codes alpha 3'] == 'USA']\n",
    "usa.info()"
   ]
  },
  {
   "cell_type": "code",
   "execution_count": 4,
   "metadata": {},
   "outputs": [],
   "source": [
    "# degrees\n",
    "degrees = ['Vulnerable', 'Definitely endangered', 'Severely endangered', 'Critically endangered', 'Extinct']\n",
    "\n",
    "# colors\n",
    "colors = [\"rgb(0,255,255)\", \"rgb(0,250,154)\", \"rgb(255,215,0)\", \"rgb(255,140,0)\", \"rgb(255,69,0)\"]"
   ]
  },
  {
   "cell_type": "code",
   "execution_count": 5,
   "metadata": {},
   "outputs": [],
   "source": [
    "# get map data\n",
    "\n",
    "data = []\n",
    "for i in range(len(degrees)):\n",
    "    degree = degrees[i]\n",
    "    degree_data = go.Scattergeo(\n",
    "        lat = usa.loc[usa['Degree of endangerment'] == degree, 'Latitude'],\n",
    "        lon = usa.loc[usa['Degree of endangerment'] == degree, 'Longitude'],\n",
    "        text = usa.loc[usa['Degree of endangerment'] == degree, 'Name in English'],\n",
    "        mode = 'markers',\n",
    "        marker = go.scattergeo.Marker(\n",
    "            size = 8,\n",
    "            opacity = 0.5,\n",
    "            color = colors[i]\n",
    "        ),\n",
    "        name = degree,\n",
    "        hoverinfo = 'text',\n",
    "        type = 'scattergeo'\n",
    "    )\n",
    "    data.append(degree_data)"
   ]
  },
  {
   "cell_type": "code",
   "execution_count": 6,
   "metadata": {},
   "outputs": [],
   "source": [
    "# layout of the map\n",
    "layout_usa = dict(\n",
    "        title = 'US Endangered Languages with Degree of Endangerment', \n",
    "        geo = dict(\n",
    "            scope='usa',\n",
    "            showland = True,\n",
    "            showcoastlines = True,\n",
    "            landcolor = \"rgb(250, 250, 250)\",\n",
    "            subunitcolor = \"rgb(217, 217, 217)\",\n",
    "            countrycolor = \"rgb(217, 217, 217)\",\n",
    "            countrywidth = 0.5,\n",
    "            subunitwidth = 0.5\n",
    "        ),\n",
    ")"
   ]
  },
  {
   "cell_type": "code",
   "execution_count": 7,
   "metadata": {},
   "outputs": [],
   "source": [
    "updatemenus=list([\n",
    "    # drop-down: select different degrees to visualize\n",
    "    dict(\n",
    "         buttons=list([\n",
    "            dict(label = 'All Degrees',\n",
    "                 method = 'update',\n",
    "                 args = [{'visible': [True, True, True, True, True]}]),\n",
    "            dict(label = 'Vulnerable',\n",
    "                 method = 'update',\n",
    "                 args = [{'visible': [True, False, False, False, False]}]),\n",
    "            dict(label = 'Definitely Endangered',\n",
    "                 method = 'update',\n",
    "                 args = [{'visible': [False, True, False, False, False]}]),\n",
    "             dict(label = 'Severely Endangered',\n",
    "                 method = 'update',\n",
    "                 args = [{'visible': [False, False, True, False, False]}]),\n",
    "             dict(label = 'Critically Endangered',\n",
    "                 method = 'update',\n",
    "                 args = [{'visible': [False, False, False, True, False]}]),\n",
    "             dict(label = 'Extinct',\n",
    "                 method = 'update',\n",
    "                 args = [{'visible': [False, False, False, False, True]}])\n",
    "             \n",
    "        ]),\n",
    "        # direction where the drop-down expands when opened\n",
    "        direction = 'down',\n",
    "        # positional arguments\n",
    "        x = 0.01,\n",
    "        xanchor = 'left',\n",
    "        y = 0.99,\n",
    "        yanchor = 'bottom',\n",
    "        # fonts and border\n",
    "        bgcolor = '#FFFFFF',\n",
    "        bordercolor = '#000000',\n",
    "        font = dict(size=11)\n",
    "    )\n",
    "])\n",
    "\n",
    "# assign the list of dictionaries to the layout dictionary\n",
    "layout_usa['updatemenus'] = updatemenus"
   ]
  },
  {
   "cell_type": "code",
   "execution_count": 8,
   "metadata": {},
   "outputs": [
    {
     "name": "stderr",
     "output_type": "stream",
     "text": [
      "/usr/local/lib/python3.7/site-packages/IPython/core/display.py:689: UserWarning:\n",
      "\n",
      "Consider using IPython.display.IFrame instead\n",
      "\n"
     ]
    },
    {
     "data": {
      "text/html": [
       "<iframe id=\"igraph\" scrolling=\"no\" style=\"border:none;\" seamless=\"seamless\" src=\"https://plot.ly/~WendyLiang/4.embed\" height=\"525px\" width=\"100%\"></iframe>"
      ],
      "text/plain": [
       "<chart_studio.tools.PlotlyDisplay object>"
      ]
     },
     "execution_count": 8,
     "metadata": {},
     "output_type": "execute_result"
    }
   ],
   "source": [
    "figure_usa = go.Figure(data=data, layout=layout_usa)\n",
    "py.iplot(figure_usa, filename='US_EL_degree')"
   ]
  },
  {
   "cell_type": "code",
   "execution_count": 9,
   "metadata": {},
   "outputs": [
    {
     "data": {
      "text/plain": [
       "'US_EL_Degree.html'"
      ]
     },
     "execution_count": 9,
     "metadata": {},
     "output_type": "execute_result"
    }
   ],
   "source": [
    "plotly.offline.plot(figure_usa, filename='US_EL_Degree.html', auto_open=False)"
   ]
  },
  {
   "cell_type": "code",
   "execution_count": null,
   "metadata": {},
   "outputs": [],
   "source": []
  }
 ],
 "metadata": {
  "kernelspec": {
   "display_name": "Python 3",
   "language": "python",
   "name": "python3"
  },
  "language_info": {
   "codemirror_mode": {
    "name": "ipython",
    "version": 3
   },
   "file_extension": ".py",
   "mimetype": "text/x-python",
   "name": "python",
   "nbconvert_exporter": "python",
   "pygments_lexer": "ipython3",
   "version": "3.7.3"
  }
 },
 "nbformat": 4,
 "nbformat_minor": 2
}
